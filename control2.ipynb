{
  "nbformat": 4,
  "nbformat_minor": 0,
  "metadata": {
    "colab": {
      "provenance": []
    },
    "kernelspec": {
      "name": "python3",
      "display_name": "Python 3"
    },
    "language_info": {
      "name": "python"
    }
  },
  "cells": [
    {
      "cell_type": "code",
      "execution_count": null,
      "metadata": {
        "id": "u1DvbkG68h8F"
      },
      "outputs": [],
      "source": [
        "import os\n",
        "\n",
        "import numpy as np\n",
        "import matplotlib.pyplot as plt\n",
        "\n",
        "from control import tf, mixsyn , feedback, step_response\n",
        "\n",
        "s= tf([1, 0], 1)\n",
        "#Planta\n",
        "g = 200/(10*s + 1) / (0.05*s + 1)**2\n",
        "# perturbacion de la planta\n",
        "gd = 100/(10*s + 1)\n",
        "\n",
        "#primer diseño\n",
        "#ponderacion de sensibilidad\n",
        "M = 1.5\n",
        "wb = 10\n",
        "A = 1e-4\n",
        "ws1 = (s/M + wb) / (s + wb*A)\n",
        "#ponderacion KS\n",
        "wu = tf(1, 1)\n",
        "k1, cl1, info1 = mixsyn(g, ws1, wu)\n",
        "\n",
        "#funciones de : sensibilidad(S)y sensibilidad complementaria (T)\n",
        "#Diseño 1\n",
        "s1 = feedback(1, g*k1)\n",
        "t1 = feedback(g*k1, 1)\n",
        "\n",
        "#segundo diseño\n",
        "#ponderacion usada\n",
        "ws2 = (s/M ** 0.5 + wb)**2 / (s + wb*A)**2\n",
        "#ponderacion KS igual al primer diseño\n",
        "\n",
        "k2, cl2, info2 = mixsyn(g, ws2, wu)\n",
        "\n",
        "#Para el diseño 2: S y T\n",
        "s2 = feedback(1, g*k2)\n",
        "t2 = feedback(g*k2, 1)\n",
        "\n",
        "#respuesta de frecuencia\n",
        "omega= np.logspace(-2, 2, 101)\n",
        "ws1mag, _, _ = ws1.frequency_response(omega)\n",
        "s1mag, _, _ = s1.frequency_response(omega)\n",
        "ws2mag, _, _ = ws2.frequency_response(omega)\n",
        "s2mag, _, _ = s2.frequency_response(omega)\n",
        "\n",
        "plt.figure(1)\n",
        "#se emplea log.scale absoluto\n",
        "plt.semilogx(omega, 20*np.log10(s1mag.flat), label= '$S_1$' )\n",
        "plt.semilogx(omega, 20*np.log10(s2mag.flat), label= '$S_2$' )\n",
        "#-1 in logspace is inverse\n",
        "plt.semilogx(omega, -20*np.log10(ws1mag.flat), label= '$1/w_{P1}$' )\n",
        "plt.semilogx(omega, -20*np.log10(ws2mag.flat), label= '$1/w_{P2}$' )\n",
        "\n",
        "plt.ylim([-80, 10])\n",
        "plt.xlim([1e-2, 1e2])\n",
        "plt.xlabel('freq [rad/s]')\n",
        "plt.ylabel('mag [dB]')\n",
        "plt.legend()\n",
        "plt.title('sensitivity and sensitivity  weighting frequency responses')\n",
        "\n",
        "#respuesta de tiempo\n",
        "time = np.linspace(0, 3, 201)\n",
        "_, y1 = step_response(t1, time)\n",
        "_, y2 = step_response(t2, time)\n",
        "\n",
        "#dg inyecta\n",
        "#se cierra\n",
        "_, y1d = step_response(s1*gd, time)\n",
        "_, y2d = step_response(s2*gd, time)\n",
        "\n",
        "plt.figure(2)\n",
        "plt.subplot(1, 2, 1)\n",
        "plt.plot(time, y1, label= '$y_1(t)$')\n",
        "plt.plot(time, y2, label= '$y_2(t)$')\n",
        "\n",
        "plt.ylim([-0.1, 1.5])\n",
        "plt.xlim([0, 3])\n",
        "plt.xlabel('time [s]')\n",
        "plt.ylabel('signal [1]')\n",
        "plt.legend()\n",
        "plt.title('Traking response')\n",
        "\n",
        "plt.subplot(1, 2, 2)\n",
        "plt.plot(time, y1d, label= '$y_1(t)$')\n",
        "plt.plot(time, y2d, label= '$y_2(t)$')\n",
        "\n",
        "plt.ylim([-0.1, 1.5])\n",
        "plt.xlim([0, 3])\n",
        "plt.xlabel('time [s]')\n",
        "plt.ylabel('signal [1]')\n",
        "plt.legend()\n",
        "plt.title('Disturbance response')\n",
        "\n",
        "if 'PYCONTROL_TEST_EXAMPLES' not in os.environ:\n",
        "    plt.show()"
      ]
    },
    {
      "cell_type": "code",
      "source": [],
      "metadata": {
        "id": "GeTi6_2_-Oh8"
      },
      "execution_count": null,
      "outputs": []
    },
    {
      "cell_type": "code",
      "source": [
        "pip install control"
      ],
      "metadata": {
        "colab": {
          "base_uri": "https://localhost:8080/"
        },
        "id": "oAgTt7Mo9bcm",
        "outputId": "95309908-fcb9-419b-84c3-998ec2782e36"
      },
      "execution_count": null,
      "outputs": [
        {
          "output_type": "stream",
          "name": "stdout",
          "text": [
            "Looking in indexes: https://pypi.org/simple, https://us-python.pkg.dev/colab-wheels/public/simple/\n",
            "Collecting control\n",
            "  Downloading control-0.9.1.tar.gz (357 kB)\n",
            "\u001b[K     |████████████████████████████████| 357 kB 7.9 MB/s \n",
            "\u001b[?25hRequirement already satisfied: numpy in /usr/local/lib/python3.7/dist-packages (from control) (1.21.6)\n",
            "Requirement already satisfied: scipy in /usr/local/lib/python3.7/dist-packages (from control) (1.4.1)\n",
            "Requirement already satisfied: matplotlib in /usr/local/lib/python3.7/dist-packages (from control) (3.2.2)\n",
            "Requirement already satisfied: kiwisolver>=1.0.1 in /usr/local/lib/python3.7/dist-packages (from matplotlib->control) (1.4.2)\n",
            "Requirement already satisfied: python-dateutil>=2.1 in /usr/local/lib/python3.7/dist-packages (from matplotlib->control) (2.8.2)\n",
            "Requirement already satisfied: cycler>=0.10 in /usr/local/lib/python3.7/dist-packages (from matplotlib->control) (0.11.0)\n",
            "Requirement already satisfied: pyparsing!=2.0.4,!=2.1.2,!=2.1.6,>=2.0.1 in /usr/local/lib/python3.7/dist-packages (from matplotlib->control) (3.0.9)\n",
            "Requirement already satisfied: typing-extensions in /usr/local/lib/python3.7/dist-packages (from kiwisolver>=1.0.1->matplotlib->control) (4.2.0)\n",
            "Requirement already satisfied: six>=1.5 in /usr/local/lib/python3.7/dist-packages (from python-dateutil>=2.1->matplotlib->control) (1.15.0)\n",
            "Building wheels for collected packages: control\n",
            "  Building wheel for control (setup.py) ... \u001b[?25l\u001b[?25hdone\n",
            "  Created wheel for control: filename=control-0.9.1-py2.py3-none-any.whl size=364703 sha256=b2050de89f8d24ebb425fd155e93af2b6dde6f2576aab20fec0dc96a011e179f\n",
            "  Stored in directory: /root/.cache/pip/wheels/b1/50/22/8005107713828997d1af664fbd629c7f935a1b87fc2f4ba6c1\n",
            "Successfully built control\n",
            "Installing collected packages: control\n",
            "Successfully installed control-0.9.1\n"
          ]
        }
      ]
    },
    {
      "cell_type": "code",
      "source": [
        "pip install SAlib"
      ],
      "metadata": {
        "colab": {
          "base_uri": "https://localhost:8080/"
        },
        "id": "1k7_aQSK-T4f",
        "outputId": "cad7f487-9d5b-4891-f903-26fabcd2453f"
      },
      "execution_count": null,
      "outputs": [
        {
          "output_type": "stream",
          "name": "stdout",
          "text": [
            "Looking in indexes: https://pypi.org/simple, https://us-python.pkg.dev/colab-wheels/public/simple/\n",
            "Collecting SAlib\n",
            "  Downloading SALib-1.4.5-py2.py3-none-any.whl (756 kB)\n",
            "\u001b[K     |████████████████████████████████| 756 kB 7.5 MB/s \n",
            "\u001b[?25hCollecting pathos\n",
            "  Downloading pathos-0.2.9-py3-none-any.whl (76 kB)\n",
            "\u001b[K     |████████████████████████████████| 76 kB 6.7 MB/s \n",
            "\u001b[?25hRequirement already satisfied: numpy in /usr/local/lib/python3.7/dist-packages (from SAlib) (1.21.6)\n",
            "Requirement already satisfied: pandas in /usr/local/lib/python3.7/dist-packages (from SAlib) (1.3.5)\n",
            "Requirement already satisfied: wheel in /usr/local/lib/python3.7/dist-packages (from SAlib) (0.37.1)\n",
            "Requirement already satisfied: setuptools in /usr/local/lib/python3.7/dist-packages (from SAlib) (57.4.0)\n",
            "Requirement already satisfied: importlib-metadata in /usr/local/lib/python3.7/dist-packages (from SAlib) (4.11.3)\n",
            "Requirement already satisfied: scipy in /usr/local/lib/python3.7/dist-packages (from SAlib) (1.4.1)\n",
            "Requirement already satisfied: matplotlib in /usr/local/lib/python3.7/dist-packages (from SAlib) (3.2.2)\n",
            "Requirement already satisfied: zipp>=0.5 in /usr/local/lib/python3.7/dist-packages (from importlib-metadata->SAlib) (3.8.0)\n",
            "Requirement already satisfied: typing-extensions>=3.6.4 in /usr/local/lib/python3.7/dist-packages (from importlib-metadata->SAlib) (4.2.0)\n",
            "Requirement already satisfied: pyparsing!=2.0.4,!=2.1.2,!=2.1.6,>=2.0.1 in /usr/local/lib/python3.7/dist-packages (from matplotlib->SAlib) (3.0.9)\n",
            "Requirement already satisfied: kiwisolver>=1.0.1 in /usr/local/lib/python3.7/dist-packages (from matplotlib->SAlib) (1.4.2)\n",
            "Requirement already satisfied: cycler>=0.10 in /usr/local/lib/python3.7/dist-packages (from matplotlib->SAlib) (0.11.0)\n",
            "Requirement already satisfied: python-dateutil>=2.1 in /usr/local/lib/python3.7/dist-packages (from matplotlib->SAlib) (2.8.2)\n",
            "Requirement already satisfied: six>=1.5 in /usr/local/lib/python3.7/dist-packages (from python-dateutil>=2.1->matplotlib->SAlib) (1.15.0)\n",
            "Requirement already satisfied: pytz>=2017.3 in /usr/local/lib/python3.7/dist-packages (from pandas->SAlib) (2022.1)\n",
            "Requirement already satisfied: dill>=0.3.5.1 in /usr/local/lib/python3.7/dist-packages (from pathos->SAlib) (0.3.5.1)\n",
            "Collecting multiprocess>=0.70.13\n",
            "  Downloading multiprocess-0.70.13-py37-none-any.whl (115 kB)\n",
            "\u001b[K     |████████████████████████████████| 115 kB 61.3 MB/s \n",
            "\u001b[?25hCollecting pox>=0.3.1\n",
            "  Downloading pox-0.3.1-py2.py3-none-any.whl (28 kB)\n",
            "Collecting ppft>=1.7.6.5\n",
            "  Downloading ppft-1.7.6.5-py2.py3-none-any.whl (52 kB)\n",
            "\u001b[K     |████████████████████████████████| 52 kB 1.3 MB/s \n",
            "\u001b[?25hInstalling collected packages: ppft, pox, multiprocess, pathos, SAlib\n",
            "  Attempting uninstall: multiprocess\n",
            "    Found existing installation: multiprocess 0.70.12.2\n",
            "    Uninstalling multiprocess-0.70.12.2:\n",
            "      Successfully uninstalled multiprocess-0.70.12.2\n",
            "Successfully installed SAlib-1.4.5 multiprocess-0.70.13 pathos-0.2.9 pox-0.3.1 ppft-1.7.6.5\n"
          ]
        }
      ]
    },
    {
      "cell_type": "code",
      "source": [
        "pip install slycot"
      ],
      "metadata": {
        "colab": {
          "base_uri": "https://localhost:8080/"
        },
        "id": "TXngp7369b0_",
        "outputId": "291e77f2-c18d-4705-905b-45cda1187bd8"
      },
      "execution_count": null,
      "outputs": [
        {
          "output_type": "stream",
          "name": "stdout",
          "text": [
            "Looking in indexes: https://pypi.org/simple, https://us-python.pkg.dev/colab-wheels/public/simple/\n",
            "Collecting slycot\n",
            "  Downloading slycot-0.4.0.0.tar.gz (1.5 MB)\n",
            "\u001b[K     |████████████████████████████████| 1.5 MB 6.6 MB/s \n",
            "\u001b[?25h  Installing build dependencies ... \u001b[?25l\u001b[?25hdone\n",
            "  Getting requirements to build wheel ... \u001b[?25l\u001b[?25hdone\n",
            "    Preparing wheel metadata ... \u001b[?25l\u001b[?25hdone\n",
            "Requirement already satisfied: numpy in /usr/local/lib/python3.7/dist-packages (from slycot) (1.21.6)\n",
            "Building wheels for collected packages: slycot\n",
            "  Building wheel for slycot (PEP 517) ... \u001b[?25l\u001b[?25hdone\n",
            "  Created wheel for slycot: filename=slycot-0.4.0-cp37-cp37m-linux_x86_64.whl size=1418334 sha256=070c5e25501a9babdeddd0be551a32a7114856136d4f6b25ddc9b717eecb67a2\n",
            "  Stored in directory: /root/.cache/pip/wheels/fa/b2/19/1e6568896fbabaf2a03d2fb6575211d281afcb9e00ce026cf6\n",
            "Successfully built slycot\n",
            "Installing collected packages: slycot\n",
            "Successfully installed slycot-0.4.0\n"
          ]
        }
      ]
    }
  ]
}