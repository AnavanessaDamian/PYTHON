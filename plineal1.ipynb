{
  "nbformat": 4,
  "nbformat_minor": 0,
  "metadata": {
    "colab": {
      "provenance": []
    },
    "kernelspec": {
      "name": "python3",
      "display_name": "Python 3"
    },
    "language_info": {
      "name": "python"
    }
  },
  "cells": [
    {
      "cell_type": "code",
      "execution_count": null,
      "metadata": {
        "colab": {
          "base_uri": "https://localhost:8080/"
        },
        "id": "Yb59MGxHoVAM",
        "outputId": "d16119bc-dc7c-4060-fd87-b9b95017051f"
      },
      "outputs": [
        {
          "output_type": "stream",
          "name": "stdout",
          "text": [
            "Initial objective: 16.0\n",
            "Final objective17.01401724563517\n",
            "solucion\n",
            "x1 = 1.0\n",
            "x2 = 4.742996096883977\n",
            "x3 = 3.8211546234095715\n",
            "x4 = 1.379407645075325\n"
          ]
        }
      ],
      "source": [
        "import numpy as np\n",
        "from scipy.optimize import minimize\n",
        "def objective(x):\n",
        " return x[0]*x[3]*(x[0]+x[1]+x[2])+x[2]\n",
        "def constraint1(x):\n",
        " return x[0]*x[1]*x[2]*x[3]- 25.0\n",
        "def constraint2(x):\n",
        " sum_eq=40.0\n",
        " for i in range(4):\n",
        "  sum_eq = sum_eq-x[i]**2\n",
        " return sum_eq\n",
        "n=4\n",
        "x0=np.zeros(n)\n",
        "x0[0]= 1.0\n",
        "x0[1]= 5.0\n",
        "x0[2]= 5.0\n",
        "x0[3]= 1.0\n",
        "print('Initial objective: '+ str(objective(x0)))\n",
        "b= (1.0,5.0)\n",
        "bnds=(b, b, b, b)\n",
        "con1 = {'type': 'ineq', 'fun': constraint1}\n",
        "con2 = {'type': 'eq', 'fun': constraint2}\n",
        "cons = ([con1,con2])\n",
        "solution = minimize(objective, x0, method = 'SLSQP',\\\n",
        " bounds=bnds, constraints=cons)\n",
        "x = solution.x\n",
        "print('Final objective'+str(objective(x)))\n",
        "print('solucion')\n",
        "print('x1 = ' +str(x[0]))\n",
        "print('x2 = ' +str(x[1]))\n",
        "print('x3 = ' +str(x[2]))\n",
        "print('x4 = ' +str(x[3]))\n"
      ]
    }
  ]
}