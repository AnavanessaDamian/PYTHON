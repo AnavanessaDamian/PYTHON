{
  "nbformat": 4,
  "nbformat_minor": 0,
  "metadata": {
    "colab": {
      "provenance": []
    },
    "kernelspec": {
      "name": "python3",
      "display_name": "Python 3"
    },
    "language_info": {
      "name": "python"
    },
    "widgets": {
      "application/vnd.jupyter.widget-state+json": {
        "3e461abdb273496bb376144911ccdf46": {
          "model_module": "@jupyter-widgets/controls",
          "model_name": "VBoxModel",
          "model_module_version": "1.5.0",
          "state": {
            "_dom_classes": [
              "widget-interact"
            ],
            "_model_module": "@jupyter-widgets/controls",
            "_model_module_version": "1.5.0",
            "_model_name": "VBoxModel",
            "_view_count": null,
            "_view_module": "@jupyter-widgets/controls",
            "_view_module_version": "1.5.0",
            "_view_name": "VBoxView",
            "box_style": "",
            "children": [
              "IPY_MODEL_f1ea62f5ad4e4a3a91a2f9f98dec0ba3",
              "IPY_MODEL_65510c86e16d4cea9f94028a2c0dc9d5"
            ],
            "layout": "IPY_MODEL_aedc1416cc054b148c5bae2be14ff077"
          }
        },
        "f1ea62f5ad4e4a3a91a2f9f98dec0ba3": {
          "model_module": "@jupyter-widgets/controls",
          "model_name": "FloatSliderModel",
          "model_module_version": "1.5.0",
          "state": {
            "_dom_classes": [],
            "_model_module": "@jupyter-widgets/controls",
            "_model_module_version": "1.5.0",
            "_model_name": "FloatSliderModel",
            "_view_count": null,
            "_view_module": "@jupyter-widgets/controls",
            "_view_module_version": "1.5.0",
            "_view_name": "FloatSliderView",
            "continuous_update": true,
            "description": "Tcooling",
            "description_tooltip": null,
            "disabled": false,
            "layout": "IPY_MODEL_73de5dbd07894005bff3e7251dcfd0aa",
            "max": 310,
            "min": 290,
            "orientation": "horizontal",
            "readout": true,
            "readout_format": ".2f",
            "step": 0.1,
            "style": "IPY_MODEL_e32412413231429dae3a613ba8da708f",
            "value": 300
          }
        },
        "65510c86e16d4cea9f94028a2c0dc9d5": {
          "model_module": "@jupyter-widgets/output",
          "model_name": "OutputModel",
          "model_module_version": "1.0.0",
          "state": {
            "_dom_classes": [],
            "_model_module": "@jupyter-widgets/output",
            "_model_module_version": "1.0.0",
            "_model_name": "OutputModel",
            "_view_count": null,
            "_view_module": "@jupyter-widgets/output",
            "_view_module_version": "1.0.0",
            "_view_name": "OutputView",
            "layout": "IPY_MODEL_14328859090c4fa2a8d2c8a68a8f2fda",
            "msg_id": "",
            "outputs": [
              {
                "output_type": "display_data",
                "data": {
                  "text/plain": "<Figure size 864x288 with 2 Axes>",
                  "image/png": "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\n"
                },
                "metadata": {}
              }
            ]
          }
        },
        "aedc1416cc054b148c5bae2be14ff077": {
          "model_module": "@jupyter-widgets/base",
          "model_name": "LayoutModel",
          "model_module_version": "1.2.0",
          "state": {
            "_model_module": "@jupyter-widgets/base",
            "_model_module_version": "1.2.0",
            "_model_name": "LayoutModel",
            "_view_count": null,
            "_view_module": "@jupyter-widgets/base",
            "_view_module_version": "1.2.0",
            "_view_name": "LayoutView",
            "align_content": null,
            "align_items": null,
            "align_self": null,
            "border": null,
            "bottom": null,
            "display": null,
            "flex": null,
            "flex_flow": null,
            "grid_area": null,
            "grid_auto_columns": null,
            "grid_auto_flow": null,
            "grid_auto_rows": null,
            "grid_column": null,
            "grid_gap": null,
            "grid_row": null,
            "grid_template_areas": null,
            "grid_template_columns": null,
            "grid_template_rows": null,
            "height": null,
            "justify_content": null,
            "justify_items": null,
            "left": null,
            "margin": null,
            "max_height": null,
            "max_width": null,
            "min_height": null,
            "min_width": null,
            "object_fit": null,
            "object_position": null,
            "order": null,
            "overflow": null,
            "overflow_x": null,
            "overflow_y": null,
            "padding": null,
            "right": null,
            "top": null,
            "visibility": null,
            "width": null
          }
        },
        "73de5dbd07894005bff3e7251dcfd0aa": {
          "model_module": "@jupyter-widgets/base",
          "model_name": "LayoutModel",
          "model_module_version": "1.2.0",
          "state": {
            "_model_module": "@jupyter-widgets/base",
            "_model_module_version": "1.2.0",
            "_model_name": "LayoutModel",
            "_view_count": null,
            "_view_module": "@jupyter-widgets/base",
            "_view_module_version": "1.2.0",
            "_view_name": "LayoutView",
            "align_content": null,
            "align_items": null,
            "align_self": null,
            "border": null,
            "bottom": null,
            "display": null,
            "flex": null,
            "flex_flow": null,
            "grid_area": null,
            "grid_auto_columns": null,
            "grid_auto_flow": null,
            "grid_auto_rows": null,
            "grid_column": null,
            "grid_gap": null,
            "grid_row": null,
            "grid_template_areas": null,
            "grid_template_columns": null,
            "grid_template_rows": null,
            "height": null,
            "justify_content": null,
            "justify_items": null,
            "left": null,
            "margin": null,
            "max_height": null,
            "max_width": null,
            "min_height": null,
            "min_width": null,
            "object_fit": null,
            "object_position": null,
            "order": null,
            "overflow": null,
            "overflow_x": null,
            "overflow_y": null,
            "padding": null,
            "right": null,
            "top": null,
            "visibility": null,
            "width": null
          }
        },
        "e32412413231429dae3a613ba8da708f": {
          "model_module": "@jupyter-widgets/controls",
          "model_name": "SliderStyleModel",
          "model_module_version": "1.5.0",
          "state": {
            "_model_module": "@jupyter-widgets/controls",
            "_model_module_version": "1.5.0",
            "_model_name": "SliderStyleModel",
            "_view_count": null,
            "_view_module": "@jupyter-widgets/base",
            "_view_module_version": "1.2.0",
            "_view_name": "StyleView",
            "description_width": "",
            "handle_color": null
          }
        },
        "14328859090c4fa2a8d2c8a68a8f2fda": {
          "model_module": "@jupyter-widgets/base",
          "model_name": "LayoutModel",
          "model_module_version": "1.2.0",
          "state": {
            "_model_module": "@jupyter-widgets/base",
            "_model_module_version": "1.2.0",
            "_model_name": "LayoutModel",
            "_view_count": null,
            "_view_module": "@jupyter-widgets/base",
            "_view_module_version": "1.2.0",
            "_view_name": "LayoutView",
            "align_content": null,
            "align_items": null,
            "align_self": null,
            "border": null,
            "bottom": null,
            "display": null,
            "flex": null,
            "flex_flow": null,
            "grid_area": null,
            "grid_auto_columns": null,
            "grid_auto_flow": null,
            "grid_auto_rows": null,
            "grid_column": null,
            "grid_gap": null,
            "grid_row": null,
            "grid_template_areas": null,
            "grid_template_columns": null,
            "grid_template_rows": null,
            "height": null,
            "justify_content": null,
            "justify_items": null,
            "left": null,
            "margin": null,
            "max_height": null,
            "max_width": null,
            "min_height": null,
            "min_width": null,
            "object_fit": null,
            "object_position": null,
            "order": null,
            "overflow": null,
            "overflow_x": null,
            "overflow_y": null,
            "padding": null,
            "right": null,
            "top": null,
            "visibility": null,
            "width": null
          }
        }
      }
    }
  },
  "cells": [
    {
      "cell_type": "code",
      "execution_count": null,
      "metadata": {
        "colab": {
          "base_uri": "https://localhost:8080/"
        },
        "id": "g1i7rjQFeNer",
        "outputId": "f5ca9133-a707-4b82-c6a7-b63a50e8684c"
      },
      "outputs": [
        {
          "output_type": "stream",
          "name": "stdout",
          "text": [
            "Collecting SAlib\n",
            "  Downloading SALib-1.4.5-py2.py3-none-any.whl (756 kB)\n",
            "\u001b[K     |████████████████████████████████| 756 kB 4.1 MB/s \n",
            "\u001b[?25hRequirement already satisfied: wheel in /usr/local/lib/python3.7/dist-packages (from SAlib) (0.37.1)\n",
            "Requirement already satisfied: numpy in /usr/local/lib/python3.7/dist-packages (from SAlib) (1.21.6)\n",
            "Requirement already satisfied: importlib-metadata in /usr/local/lib/python3.7/dist-packages (from SAlib) (4.11.3)\n",
            "Collecting pathos\n",
            "  Downloading pathos-0.2.8-py2.py3-none-any.whl (81 kB)\n",
            "\u001b[K     |████████████████████████████████| 81 kB 7.0 MB/s \n",
            "\u001b[?25hRequirement already satisfied: pandas in /usr/local/lib/python3.7/dist-packages (from SAlib) (1.3.5)\n",
            "Requirement already satisfied: matplotlib in /usr/local/lib/python3.7/dist-packages (from SAlib) (3.2.2)\n",
            "Requirement already satisfied: scipy in /usr/local/lib/python3.7/dist-packages (from SAlib) (1.4.1)\n",
            "Requirement already satisfied: setuptools in /usr/local/lib/python3.7/dist-packages (from SAlib) (57.4.0)\n",
            "Requirement already satisfied: typing-extensions>=3.6.4 in /usr/local/lib/python3.7/dist-packages (from importlib-metadata->SAlib) (4.2.0)\n",
            "Requirement already satisfied: zipp>=0.5 in /usr/local/lib/python3.7/dist-packages (from importlib-metadata->SAlib) (3.8.0)\n",
            "Requirement already satisfied: pyparsing!=2.0.4,!=2.1.2,!=2.1.6,>=2.0.1 in /usr/local/lib/python3.7/dist-packages (from matplotlib->SAlib) (3.0.8)\n",
            "Requirement already satisfied: python-dateutil>=2.1 in /usr/local/lib/python3.7/dist-packages (from matplotlib->SAlib) (2.8.2)\n",
            "Requirement already satisfied: cycler>=0.10 in /usr/local/lib/python3.7/dist-packages (from matplotlib->SAlib) (0.11.0)\n",
            "Requirement already satisfied: kiwisolver>=1.0.1 in /usr/local/lib/python3.7/dist-packages (from matplotlib->SAlib) (1.4.2)\n",
            "Requirement already satisfied: six>=1.5 in /usr/local/lib/python3.7/dist-packages (from python-dateutil>=2.1->matplotlib->SAlib) (1.15.0)\n",
            "Requirement already satisfied: pytz>=2017.3 in /usr/local/lib/python3.7/dist-packages (from pandas->SAlib) (2022.1)\n",
            "Collecting ppft>=1.6.6.4\n",
            "  Downloading ppft-1.6.6.4-py3-none-any.whl (65 kB)\n",
            "\u001b[K     |████████████████████████████████| 65 kB 2.6 MB/s \n",
            "\u001b[?25hRequirement already satisfied: multiprocess>=0.70.12 in /usr/local/lib/python3.7/dist-packages (from pathos->SAlib) (0.70.12.2)\n",
            "Collecting pox>=0.3.0\n",
            "  Downloading pox-0.3.0-py2.py3-none-any.whl (30 kB)\n",
            "Requirement already satisfied: dill>=0.3.4 in /usr/local/lib/python3.7/dist-packages (from pathos->SAlib) (0.3.4)\n",
            "Installing collected packages: ppft, pox, pathos, SAlib\n",
            "Successfully installed SAlib-1.4.5 pathos-0.2.8 pox-0.3.0 ppft-1.6.6.4\n"
          ]
        }
      ],
      "source": [
        "!pip install SAlib"
      ]
    },
    {
      "cell_type": "code",
      "source": [
        "import numpy as np\n",
        "import matplotlib.pyplot as plt\n",
        "\n",
        "from SALib.sample import latin\n",
        "from Salib.sample import sobol_sequence\n",
        "from SALib.sample import morris as morris_samp\n",
        "from SALib.sample import saltelli\n",
        "\n",
        "from SALib.analyze import sobol\n",
        "from SALib.analyze import morris\n",
        "\n",
        "from SALib.test_functions import Ishigami\n",
        "from SALib.test_functions import Sobol_G\n",
        "\n",
        "problem ={'num_vars': 2, 'names' : ['x1','x2'],'bounds' : [[0, 1], [0,1]]}\n",
        "N = 100\n",
        "rand_samp = np.random.rand(N, 2)\n",
        "plt.figure()\n",
        "plt.scatter(rand_samp[:,0], rand_samp[:,1])\n",
        "plt.title('Random')\n",
        "plt.show()"
      ],
      "metadata": {
        "colab": {
          "base_uri": "https://localhost:8080/",
          "height": 373
        },
        "id": "zd_Uk1nofr3R",
        "outputId": "e0ea25cb-4d0c-4b1a-e7b8-3faf69275bfb"
      },
      "execution_count": null,
      "outputs": [
        {
          "output_type": "error",
          "ename": "ModuleNotFoundError",
          "evalue": "ignored",
          "traceback": [
            "\u001b[0;31m---------------------------------------------------------------------------\u001b[0m",
            "\u001b[0;31mModuleNotFoundError\u001b[0m                       Traceback (most recent call last)",
            "\u001b[0;32m<ipython-input-5-ae4d65146aa7>\u001b[0m in \u001b[0;36m<module>\u001b[0;34m()\u001b[0m\n\u001b[1;32m      4\u001b[0m \u001b[0;34m\u001b[0m\u001b[0m\n\u001b[1;32m      5\u001b[0m \u001b[0;32mfrom\u001b[0m \u001b[0mSALib\u001b[0m\u001b[0;34m.\u001b[0m\u001b[0msample\u001b[0m \u001b[0;32mimport\u001b[0m \u001b[0mlatin\u001b[0m\u001b[0;34m\u001b[0m\u001b[0;34m\u001b[0m\u001b[0m\n\u001b[0;32m----> 6\u001b[0;31m \u001b[0;32mfrom\u001b[0m \u001b[0mSalib\u001b[0m\u001b[0;34m.\u001b[0m\u001b[0msample\u001b[0m \u001b[0;32mimport\u001b[0m \u001b[0msobol_sequence\u001b[0m\u001b[0;34m\u001b[0m\u001b[0;34m\u001b[0m\u001b[0m\n\u001b[0m\u001b[1;32m      7\u001b[0m \u001b[0;32mfrom\u001b[0m \u001b[0mSALib\u001b[0m\u001b[0;34m.\u001b[0m\u001b[0msample\u001b[0m \u001b[0;32mimport\u001b[0m \u001b[0mmorris\u001b[0m \u001b[0;32mas\u001b[0m \u001b[0mmorris_samp\u001b[0m\u001b[0;34m\u001b[0m\u001b[0;34m\u001b[0m\u001b[0m\n\u001b[1;32m      8\u001b[0m \u001b[0;32mfrom\u001b[0m \u001b[0mSALib\u001b[0m\u001b[0;34m.\u001b[0m\u001b[0msample\u001b[0m \u001b[0;32mimport\u001b[0m \u001b[0msaltelli\u001b[0m\u001b[0;34m\u001b[0m\u001b[0;34m\u001b[0m\u001b[0m\n",
            "\u001b[0;31mModuleNotFoundError\u001b[0m: No module named 'Salib'",
            "",
            "\u001b[0;31m---------------------------------------------------------------------------\u001b[0;32m\nNOTE: If your import is failing due to a missing package, you can\nmanually install dependencies using either !pip or !apt.\n\nTo view examples of installing some common dependencies, click the\n\"Open Examples\" button below.\n\u001b[0;31m---------------------------------------------------------------------------\u001b[0m\n"
          ],
          "errorDetails": {
            "actions": [
              {
                "action": "open_url",
                "actionText": "Open Examples",
                "url": "/notebooks/snippets/importing_libraries.ipynb"
              }
            ]
          }
        }
      ]
    },
    {
      "cell_type": "code",
      "source": [
        "!pip install ipywidgets"
      ],
      "metadata": {
        "colab": {
          "base_uri": "https://localhost:8080/"
        },
        "id": "-pslfQbJeeKg",
        "outputId": "8621ad06-96ca-4d49-c08a-f3e8d0af9453"
      },
      "execution_count": null,
      "outputs": [
        {
          "output_type": "stream",
          "name": "stdout",
          "text": [
            "Requirement already satisfied: ipywidgets in /usr/local/lib/python3.7/dist-packages (7.7.0)\n",
            "Requirement already satisfied: traitlets>=4.3.1 in /usr/local/lib/python3.7/dist-packages (from ipywidgets) (5.1.1)\n",
            "Requirement already satisfied: ipython>=4.0.0 in /usr/local/lib/python3.7/dist-packages (from ipywidgets) (5.5.0)\n",
            "Requirement already satisfied: widgetsnbextension~=3.6.0 in /usr/local/lib/python3.7/dist-packages (from ipywidgets) (3.6.0)\n",
            "Requirement already satisfied: ipython-genutils~=0.2.0 in /usr/local/lib/python3.7/dist-packages (from ipywidgets) (0.2.0)\n",
            "Requirement already satisfied: jupyterlab-widgets>=1.0.0 in /usr/local/lib/python3.7/dist-packages (from ipywidgets) (1.1.0)\n",
            "Requirement already satisfied: nbformat>=4.2.0 in /usr/local/lib/python3.7/dist-packages (from ipywidgets) (5.3.0)\n",
            "Requirement already satisfied: ipykernel>=4.5.1 in /usr/local/lib/python3.7/dist-packages (from ipywidgets) (4.10.1)\n",
            "Requirement already satisfied: tornado>=4.0 in /usr/local/lib/python3.7/dist-packages (from ipykernel>=4.5.1->ipywidgets) (5.1.1)\n",
            "Requirement already satisfied: jupyter-client in /usr/local/lib/python3.7/dist-packages (from ipykernel>=4.5.1->ipywidgets) (5.3.5)\n",
            "Requirement already satisfied: prompt-toolkit<2.0.0,>=1.0.4 in /usr/local/lib/python3.7/dist-packages (from ipython>=4.0.0->ipywidgets) (1.0.18)\n",
            "Requirement already satisfied: pygments in /usr/local/lib/python3.7/dist-packages (from ipython>=4.0.0->ipywidgets) (2.6.1)\n",
            "Requirement already satisfied: simplegeneric>0.8 in /usr/local/lib/python3.7/dist-packages (from ipython>=4.0.0->ipywidgets) (0.8.1)\n",
            "Requirement already satisfied: setuptools>=18.5 in /usr/local/lib/python3.7/dist-packages (from ipython>=4.0.0->ipywidgets) (57.4.0)\n",
            "Requirement already satisfied: pexpect in /usr/local/lib/python3.7/dist-packages (from ipython>=4.0.0->ipywidgets) (4.8.0)\n",
            "Requirement already satisfied: decorator in /usr/local/lib/python3.7/dist-packages (from ipython>=4.0.0->ipywidgets) (4.4.2)\n",
            "Requirement already satisfied: pickleshare in /usr/local/lib/python3.7/dist-packages (from ipython>=4.0.0->ipywidgets) (0.7.5)\n",
            "Requirement already satisfied: jsonschema>=2.6 in /usr/local/lib/python3.7/dist-packages (from nbformat>=4.2.0->ipywidgets) (4.3.3)\n",
            "Requirement already satisfied: fastjsonschema in /usr/local/lib/python3.7/dist-packages (from nbformat>=4.2.0->ipywidgets) (2.15.3)\n",
            "Requirement already satisfied: jupyter-core in /usr/local/lib/python3.7/dist-packages (from nbformat>=4.2.0->ipywidgets) (4.10.0)\n",
            "Requirement already satisfied: pyrsistent!=0.17.0,!=0.17.1,!=0.17.2,>=0.14.0 in /usr/local/lib/python3.7/dist-packages (from jsonschema>=2.6->nbformat>=4.2.0->ipywidgets) (0.18.1)\n",
            "Requirement already satisfied: importlib-resources>=1.4.0 in /usr/local/lib/python3.7/dist-packages (from jsonschema>=2.6->nbformat>=4.2.0->ipywidgets) (5.7.1)\n",
            "Requirement already satisfied: attrs>=17.4.0 in /usr/local/lib/python3.7/dist-packages (from jsonschema>=2.6->nbformat>=4.2.0->ipywidgets) (21.4.0)\n",
            "Requirement already satisfied: typing-extensions in /usr/local/lib/python3.7/dist-packages (from jsonschema>=2.6->nbformat>=4.2.0->ipywidgets) (4.2.0)\n",
            "Requirement already satisfied: importlib-metadata in /usr/local/lib/python3.7/dist-packages (from jsonschema>=2.6->nbformat>=4.2.0->ipywidgets) (4.11.3)\n",
            "Requirement already satisfied: zipp>=3.1.0 in /usr/local/lib/python3.7/dist-packages (from importlib-resources>=1.4.0->jsonschema>=2.6->nbformat>=4.2.0->ipywidgets) (3.8.0)\n",
            "Requirement already satisfied: six>=1.9.0 in /usr/local/lib/python3.7/dist-packages (from prompt-toolkit<2.0.0,>=1.0.4->ipython>=4.0.0->ipywidgets) (1.15.0)\n",
            "Requirement already satisfied: wcwidth in /usr/local/lib/python3.7/dist-packages (from prompt-toolkit<2.0.0,>=1.0.4->ipython>=4.0.0->ipywidgets) (0.2.5)\n",
            "Requirement already satisfied: notebook>=4.4.1 in /usr/local/lib/python3.7/dist-packages (from widgetsnbextension~=3.6.0->ipywidgets) (5.3.1)\n",
            "Requirement already satisfied: nbconvert in /usr/local/lib/python3.7/dist-packages (from notebook>=4.4.1->widgetsnbextension~=3.6.0->ipywidgets) (5.6.1)\n",
            "Requirement already satisfied: Send2Trash in /usr/local/lib/python3.7/dist-packages (from notebook>=4.4.1->widgetsnbextension~=3.6.0->ipywidgets) (1.8.0)\n",
            "Requirement already satisfied: terminado>=0.8.1 in /usr/local/lib/python3.7/dist-packages (from notebook>=4.4.1->widgetsnbextension~=3.6.0->ipywidgets) (0.13.3)\n",
            "Requirement already satisfied: jinja2 in /usr/local/lib/python3.7/dist-packages (from notebook>=4.4.1->widgetsnbextension~=3.6.0->ipywidgets) (2.11.3)\n",
            "Requirement already satisfied: pyzmq>=13 in /usr/local/lib/python3.7/dist-packages (from jupyter-client->ipykernel>=4.5.1->ipywidgets) (22.3.0)\n",
            "Requirement already satisfied: python-dateutil>=2.1 in /usr/local/lib/python3.7/dist-packages (from jupyter-client->ipykernel>=4.5.1->ipywidgets) (2.8.2)\n",
            "Requirement already satisfied: ptyprocess in /usr/local/lib/python3.7/dist-packages (from terminado>=0.8.1->notebook>=4.4.1->widgetsnbextension~=3.6.0->ipywidgets) (0.7.0)\n",
            "Requirement already satisfied: MarkupSafe>=0.23 in /usr/local/lib/python3.7/dist-packages (from jinja2->notebook>=4.4.1->widgetsnbextension~=3.6.0->ipywidgets) (2.0.1)\n",
            "Requirement already satisfied: pandocfilters>=1.4.1 in /usr/local/lib/python3.7/dist-packages (from nbconvert->notebook>=4.4.1->widgetsnbextension~=3.6.0->ipywidgets) (1.5.0)\n",
            "Requirement already satisfied: mistune<2,>=0.8.1 in /usr/local/lib/python3.7/dist-packages (from nbconvert->notebook>=4.4.1->widgetsnbextension~=3.6.0->ipywidgets) (0.8.4)\n",
            "Requirement already satisfied: defusedxml in /usr/local/lib/python3.7/dist-packages (from nbconvert->notebook>=4.4.1->widgetsnbextension~=3.6.0->ipywidgets) (0.7.1)\n",
            "Requirement already satisfied: entrypoints>=0.2.2 in /usr/local/lib/python3.7/dist-packages (from nbconvert->notebook>=4.4.1->widgetsnbextension~=3.6.0->ipywidgets) (0.4)\n",
            "Requirement already satisfied: bleach in /usr/local/lib/python3.7/dist-packages (from nbconvert->notebook>=4.4.1->widgetsnbextension~=3.6.0->ipywidgets) (5.0.0)\n",
            "Requirement already satisfied: testpath in /usr/local/lib/python3.7/dist-packages (from nbconvert->notebook>=4.4.1->widgetsnbextension~=3.6.0->ipywidgets) (0.6.0)\n",
            "Requirement already satisfied: webencodings in /usr/local/lib/python3.7/dist-packages (from bleach->nbconvert->notebook>=4.4.1->widgetsnbextension~=3.6.0->ipywidgets) (0.5.1)\n"
          ]
        }
      ]
    },
    {
      "cell_type": "code",
      "source": [
        "%matplotlib inline\n",
        "import matplotlib.pyplot as plt\n",
        "import numpy as np\n",
        "from scipy.integrate import solve_ivp\n",
        "from ipywidgets import interact\n",
        "from IPython.display import display\n",
        "\n",
        "Ea  = 72750   # activation energy J/gmol\n",
        "R   = 8.314   # gas constante J/gmol/K\n",
        "k0  = 7.2e10  # Arrhenius rate constant 1/min\n",
        "V   = 100.0   # Volume [l]\n",
        "rho = 1000.0  # Density [g/L]\n",
        "Cp  = 0.239   # Heat capacity [J/g/K]\n",
        "dHr = -5.0e4  # Enthalpy of reaction [J/mol]\n",
        "UA  = 5.0e4   # Heat transfer [J/min/K]\n",
        "q   = 100.0   # Flowrate [L/min]\n",
        "cAi = 1.0     # Inlet feed concentration [mol/L]\n",
        "Ti  = 350.0   # Inlet feed temperature [K]\n",
        "cA0 = 0.5;    # Initiol concentration [mol/L]\n",
        "T0  = 350.0;  # Initiol temperature [K]\n",
        "Tc  = 300.0   # Coolant temperature [K]\n",
        "\n",
        "# Arrhenius rate expression\n",
        "def k(T):\n",
        "    return k0*np.exp(-Ea/(R*T))\n",
        "\n",
        "def deriv(t, y):\n",
        "    cA,T = y\n",
        "    dcAdt = (q/V)*(cAi- cA) - k(T)*cA\n",
        "    dTdt = (q/V)*(Ti - T) + (-dHr/rho/Cp)*k(T)*cA + (UA/V/rho/Cp)*(Tc-T)\n",
        "    return [dcAdt, dTdt]\n",
        "# simulation\n",
        "IC = [cA0, T0]\n",
        "t_initial = 0.0\n",
        "t_final = 10.0\n",
        "t = np.linspace(t_initial, t_final, 2000)\n",
        "soln = solve_ivp(deriv, [t_initial, t_final], IC, t_eval=t)\n",
        "\n",
        "# visualization plots concetration and temperature on given axes\n",
        "def plot_reactor(ax, t , y):\n",
        "    ax[0].plot(t, y[0], label=str(Tc))\n",
        "    ax[0].set_xlabel('Time [min]')\n",
        "    ax[0].set_ylabel('Concentration [gmol/liter]')\n",
        "    ax[0].set_title('Concentration')\n",
        "    ax[0].set_ylim(0, 1)\n",
        "    ax[0].legend()\n",
        "\n",
        "    ax[1].plot(t, y[1], label=str(Tc))\n",
        "    ax[1].set_xlabel('Time [min]')\n",
        "    ax[1].set_ylabel('Temperature [K]')\n",
        "    ax[1].set_title('Temperature')\n",
        "    ax[1].set_ylim(300, 450)\n",
        "    ax[1].legend()\n",
        "\n",
        "\n",
        "    # create on initial plot object, and close so it doesn't appear\n",
        "Tc =300.0\n",
        "fig, ax = plt.subplots(1, 2, figsize=(12, 4))\n",
        "soln = solve_ivp(deriv, [t_initial, t_final], IC, t_eval=t)\n",
        "plot_reactor(ax, soln.t, soln.y)\n",
        "plt.close()\n",
        "\n",
        "# fuction to update and display the plot object\n",
        "def sim(Tcooling):\n",
        "    global Tc\n",
        "    Tc = Tcooling\n",
        "    soln = solve_ivp(deriv, [t_initial, t_final], IC, t_eval=t)\n",
        "    ax[0].lines[0].set_ydata(soln.y[0])\n",
        "    ax[0].legend().get_texts()[0].set_text(str(Tc))\n",
        "    ax[1].lines[0].set_ydata(soln.y[1])\n",
        "    ax[1].legend().get_texts()[0].set_text(str(Tc))\n",
        "    display(fig)\n",
        "\n",
        "# interactive widget\n",
        "interact(sim, Tcooling = (290.0, 310.0), continuous_update=False);"
      ],
      "metadata": {
        "colab": {
          "base_uri": "https://localhost:8080/",
          "height": 327,
          "referenced_widgets": [
            "3e461abdb273496bb376144911ccdf46",
            "f1ea62f5ad4e4a3a91a2f9f98dec0ba3",
            "65510c86e16d4cea9f94028a2c0dc9d5",
            "aedc1416cc054b148c5bae2be14ff077",
            "73de5dbd07894005bff3e7251dcfd0aa",
            "e32412413231429dae3a613ba8da708f",
            "14328859090c4fa2a8d2c8a68a8f2fda"
          ]
        },
        "id": "GMVz0z1lfNDx",
        "outputId": "1974a841-c215-4014-995f-0a8aa18c4949"
      },
      "execution_count": null,
      "outputs": [
        {
          "output_type": "display_data",
          "data": {
            "text/plain": [
              "interactive(children=(FloatSlider(value=300.0, description='Tcooling', max=310.0, min=290.0), Output()), _dom_…"
            ],
            "application/vnd.jupyter.widget-view+json": {
              "version_major": 2,
              "version_minor": 0,
              "model_id": "3e461abdb273496bb376144911ccdf46"
            }
          },
          "metadata": {}
        }
      ]
    }
  ]
}